{
 "cells": [
  {
   "cell_type": "markdown",
   "metadata": {},
   "source": [
    "# Lesson 23: Practice with Numpy and Matplotlib\n",
    "\n",
    "(c) 2016 Justin Bois. This work is licensed under a [Creative Commons Attribution License CC-BY 4.0](https://creativecommons.org/licenses/by/4.0/). All code contained herein is licensed under an [MIT license](https://opensource.org/licenses/MIT).\n",
    "\n",
    "*This tutorial was generated from a Jupyter notebook.  You can download the notebook [here](l23_practice_with_numpy_2).*"
   ]
  },
  {
   "cell_type": "markdown",
   "metadata": {},
   "source": [
    "## Practice 1: Computing and plotting a ECDFs\n",
    "\n",
    "We plotted the measured cross-sectional areas of the *C. elegans* eggs from the Harvey and Orbidans paper as histograms. A histogram is a way of approximately representing the *probability distribution function*, or PDF, describing the data. The *cumulative distribution function*, or CDF, contains the same information as the PDF. It's just its integral. Importantly, we can plot the data to show what the CDF looks like, the so-called *empirical cumulative distribution function*, or ECDF, without the binning bias inherent in histograms.\n",
    "\n",
    "To plot a cumulative histogram, the $x$-values are the sorted values of the array of data.  The values of the $y$ axis are $y_j = (j+1) / n$, where $n$ is the number of data points and $0 \\le j \\le n-1$.\n",
    "\n",
    ">1. Write a function to compute the ECDF. The call signature is `ecdf(data)`. It returns the `x` and `y` values needed to plot the ECDF.\n",
    "    * Compute `x` by sorting the array `data`.\n",
    "    * Compute `y`. Think carefully about how to do this. The two functions you need are `np.arange()` and `len()`.\n",
    "    * Return `x,y`.\n",
    "2. Load in the data sets `xa_high_food.csv` and `xa_low_food.csv`.\n",
    "3. Generate `x` and `y` values for the ECDFs for these data sets.\n",
    "4. Plot the ECDFs got the high food and low food data as dots. That is, use the kwargs `marker='.'` and `linestyle='none'` when you call `plt.plot()`. Note that to add additional plots to a given figure, you just call `plt.plot()` again.\n",
    "5. Be sure to label your axes. \"ECDF\" is a reasonable label for your $y$-axis.\n",
    "\n",
    "I think far too few papers use ECDFs in displaying data. They are far better then histograms. I hope that now you have found them, you will use them in your own research."
   ]
  },
  {
   "cell_type": "markdown",
   "metadata": {},
   "source": [
    "## Practice 2: Setting up the `bootcamp_utils` module\n",
    "\n",
    "Speaking of your own work, hopefully what you will use some of the code you write here in bootcamp going forward. As such, set up a module, `bootcamp_utils` that contains some nice functions you write as you go through the bootcamp. We'll start with `ecdf()`.\n",
    "\n",
    ">1. Use Atom to open the file `~/git/bootcamp/bootcamp_utils.py`.\n",
    "2. Put an appropriate doc string at the top.\n",
    "3. Import Numpy at the top. Later on, as you add more functions, you might need to include more imports.\n",
    "4. Put your code for your `ecdf()` function in that file.\n",
    "5. Save and close the file.\n",
    "6. Use `git add` to put `bootcamp_utils.py` under version control.\n",
    "7. Use `git commit` to commit it. Don't forget the `-m` flag and your commit message.\n",
    "8. Use `git push origin master` to push your changes to the repository. Remember, you are working on your own fork, so there will be no conflicts with the upstream repository or with your classmates."
   ]
  },
  {
   "cell_type": "markdown",
   "metadata": {},
   "source": [
    "## Practice 3: Are they Normally distributed?\n",
    "\n",
    "We might be interested to see if the egg cross-section data follow a Normal distribution. After all, this is commonly an underlying assumption when people report data from repeated measurements in the literature.\n",
    "\n",
    "One way to assess this is to plot the theoretical CDF with the same mean and standard deviation as the data on top of the ECDFs. (There are better graphical ways to do this, but this is ok.)  We know the cumulative distribution function for a Normal distribution with mean $\\mu$ and standard deviation $\\sigma$ is\n",
    "\n",
    "\\begin{align}\n",
    "\\mathrm{cdf}(x) = \\frac{1}{2}\\left(1 + \\mathrm{erf}\\left(\\frac{x - \\mu}{\\sqrt{2\\sigma^2}}\\right)\\right),\n",
    "\\end{align}\n",
    "\n",
    "but instead of coding this up directly, we can use the `scipy.stats` to do it for us!  We just need to supply where we want it evaluated ($x$), and the mean (the location parameter) and standard deviation (the scale parameter). Something like this:"
   ]
  },
  {
   "cell_type": "code",
   "execution_count": null,
   "metadata": {
    "collapsed": false
   },
   "outputs": [],
   "source": [
    "# Make smooth x-values\n",
    "x = np.linspace(1600, 2500, 400)\n",
    "\n",
    "# Compute theoretical Normal distribution\n",
    "cdf_theor = scipy.stats.norm.cdf(x, loc=np.mean(xa_low), scale=np.std(xa_low))"
   ]
  },
  {
   "cell_type": "markdown",
   "metadata": {},
   "source": [
    "Now, let's make the plot.\n",
    "\n",
    ">1. Regenerate your ECDFs. This time, import the `bootcamp_utils` module and call `bootcamp_utils.ecdf()` to get your `x` and `y` values.\n",
    "2. Plot the ECDFs as dots, as before.\n",
    "3. Make smooth curves of the Normal CDF using `scipy.stats.norm.cdf()`.\n",
    "4. Plot those curves using `plt.plot()`. You can use the `color='black'` keyword argument to set the color of the smooth curves.\n",
    "5. Don't forget to label your axes. You can also add a legend if you like."
   ]
  },
  {
   "cell_type": "markdown",
   "metadata": {},
   "source": [
    "## Finally, a reminder about documentation\n",
    "\n",
    "It is important to note that I didn't just memorize how all of these functions work when I wrote these practice exercises.  I looked at the online documentation.  For example, I looked at the [`plt.plot()` documentation](http://matplotlib.org/api/pyplot_api.html#matplotlib.pyplot.plot), and the [`scipy.stats.norm` documentation](http://docs.scipy.org/doc/scipy/reference/generated/scipy.stats.norm.html).  To find those links, I just Googled \"`plt.plot`\" and \"`scipy.stats`\".\n",
    "\n",
    "These packages are all very well documented, and those docs will be your guide.  You don't need to memorize (though you will eventually just by accident)."
   ]
  }
 ],
 "metadata": {
  "anaconda-cloud": {},
  "kernelspec": {
   "display_name": "Python [default]",
   "language": "python",
   "name": "python3"
  },
  "language_info": {
   "codemirror_mode": {
    "name": "ipython",
    "version": 3
   },
   "file_extension": ".py",
   "mimetype": "text/x-python",
   "name": "python",
   "nbconvert_exporter": "python",
   "pygments_lexer": "ipython3",
   "version": "3.5.2"
  }
 },
 "nbformat": 4,
 "nbformat_minor": 0
}
